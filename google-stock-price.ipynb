{
 "cells": [
  {
   "cell_type": "code",
   "execution_count": 1,
   "metadata": {
    "_cell_guid": "b1076dfc-b9ad-4769-8c92-a6c4dae69d19",
    "_uuid": "8f2839f25d086af736a60e9eeb907d3b93b6e0e5"
   },
   "outputs": [],
   "source": [
    "import numpy as np # linear algebra\n",
    "import pandas as pd # data processing, CSV file I/O (e.g. pd.read_csv)"
   ]
  },
  {
   "cell_type": "code",
   "execution_count": 1,
   "metadata": {},
   "outputs": [],
   "source": [
    "import numpy as np\n",
    "import matplotlib.pyplot as plt\n",
    "import pandas as pd"
   ]
  },
  {
   "cell_type": "code",
   "execution_count": 2,
   "metadata": {
    "_cell_guid": "79c7e3d0-c299-4dcb-8224-4455121ee9b0",
    "_uuid": "d629ff2d2480ee46fbb7e2d37f6b5fab8052498a"
   },
   "outputs": [],
   "source": [
    "dataset_train = pd.read_csv('Google_Stock_Price_Train.csv')\n",
    "training_set = dataset_train.iloc[:, 1:2].values"
   ]
  },
  {
   "cell_type": "code",
   "execution_count": 3,
   "metadata": {},
   "outputs": [
    {
     "data": {
      "text/html": [
       "<div>\n",
       "<style scoped>\n",
       "    .dataframe tbody tr th:only-of-type {\n",
       "        vertical-align: middle;\n",
       "    }\n",
       "\n",
       "    .dataframe tbody tr th {\n",
       "        vertical-align: top;\n",
       "    }\n",
       "\n",
       "    .dataframe thead th {\n",
       "        text-align: right;\n",
       "    }\n",
       "</style>\n",
       "<table border=\"1\" class=\"dataframe\">\n",
       "  <thead>\n",
       "    <tr style=\"text-align: right;\">\n",
       "      <th></th>\n",
       "      <th>Date</th>\n",
       "      <th>Open</th>\n",
       "      <th>High</th>\n",
       "      <th>Low</th>\n",
       "      <th>Close</th>\n",
       "      <th>Volume</th>\n",
       "    </tr>\n",
       "  </thead>\n",
       "  <tbody>\n",
       "    <tr>\n",
       "      <th>0</th>\n",
       "      <td>1/3/2012</td>\n",
       "      <td>325.25</td>\n",
       "      <td>332.83</td>\n",
       "      <td>324.97</td>\n",
       "      <td>663.59</td>\n",
       "      <td>7,380,500</td>\n",
       "    </tr>\n",
       "    <tr>\n",
       "      <th>1</th>\n",
       "      <td>1/4/2012</td>\n",
       "      <td>331.27</td>\n",
       "      <td>333.87</td>\n",
       "      <td>329.08</td>\n",
       "      <td>666.45</td>\n",
       "      <td>5,749,400</td>\n",
       "    </tr>\n",
       "    <tr>\n",
       "      <th>2</th>\n",
       "      <td>1/5/2012</td>\n",
       "      <td>329.83</td>\n",
       "      <td>330.75</td>\n",
       "      <td>326.89</td>\n",
       "      <td>657.21</td>\n",
       "      <td>6,590,300</td>\n",
       "    </tr>\n",
       "    <tr>\n",
       "      <th>3</th>\n",
       "      <td>1/6/2012</td>\n",
       "      <td>328.34</td>\n",
       "      <td>328.77</td>\n",
       "      <td>323.68</td>\n",
       "      <td>648.24</td>\n",
       "      <td>5,405,900</td>\n",
       "    </tr>\n",
       "    <tr>\n",
       "      <th>4</th>\n",
       "      <td>1/9/2012</td>\n",
       "      <td>322.04</td>\n",
       "      <td>322.29</td>\n",
       "      <td>309.46</td>\n",
       "      <td>620.76</td>\n",
       "      <td>11,688,800</td>\n",
       "    </tr>\n",
       "  </tbody>\n",
       "</table>\n",
       "</div>"
      ],
      "text/plain": [
       "       Date    Open    High     Low   Close      Volume\n",
       "0  1/3/2012  325.25  332.83  324.97  663.59   7,380,500\n",
       "1  1/4/2012  331.27  333.87  329.08  666.45   5,749,400\n",
       "2  1/5/2012  329.83  330.75  326.89  657.21   6,590,300\n",
       "3  1/6/2012  328.34  328.77  323.68  648.24   5,405,900\n",
       "4  1/9/2012  322.04  322.29  309.46  620.76  11,688,800"
      ]
     },
     "execution_count": 3,
     "metadata": {},
     "output_type": "execute_result"
    }
   ],
   "source": [
    "dataset_train.head()"
   ]
  },
  {
   "cell_type": "code",
   "execution_count": 4,
   "metadata": {},
   "outputs": [],
   "source": [
    "\n",
    "from sklearn.preprocessing import StandardScaler\n",
    "sc = StandardScaler()\n",
    "training_set_scaled = sc.fit_transform(training_set)"
   ]
  },
  {
   "cell_type": "code",
   "execution_count": 5,
   "metadata": {},
   "outputs": [],
   "source": [
    "\n",
    "X_train = []\n",
    "y_train = []\n",
    "for i in range(60, 1258):\n",
    "    X_train.append(training_set_scaled[i-60:i, 0])\n",
    "    y_train.append(training_set_scaled[i, 0])\n",
    "X_train, y_train = np.array(X_train), np.array(y_train)\n"
   ]
  },
  {
   "cell_type": "code",
   "execution_count": 6,
   "metadata": {},
   "outputs": [],
   "source": [
    "X_train = np.reshape(X_train, (X_train.shape[0], X_train.shape[1], 1))"
   ]
  },
  {
   "cell_type": "code",
   "execution_count": 7,
   "metadata": {},
   "outputs": [],
   "source": [
    "from keras.models import Sequential\n",
    "from keras.layers import Dense\n",
    "from keras.layers import LSTM\n",
    "from keras.layers import Dropout"
   ]
  },
  {
   "cell_type": "code",
   "execution_count": 8,
   "metadata": {},
   "outputs": [],
   "source": [
    "er = Sequential()"
   ]
  },
  {
   "cell_type": "code",
   "execution_count": 9,
   "metadata": {},
   "outputs": [],
   "source": [
    "er.add(LSTM(units = 50, return_sequences = True, input_shape = (X_train.shape[1], 1)))\n",
    "er.add(Dropout(0.2))"
   ]
  },
  {
   "cell_type": "code",
   "execution_count": 10,
   "metadata": {},
   "outputs": [],
   "source": [
    "er.add(LSTM(units = 50, return_sequences = True))\n",
    "er.add(Dropout(0.2))"
   ]
  },
  {
   "cell_type": "code",
   "execution_count": 11,
   "metadata": {},
   "outputs": [],
   "source": [
    "er.add(LSTM(units = 50, return_sequences = True))\n",
    "er.add(Dropout(0.3))"
   ]
  },
  {
   "cell_type": "code",
   "execution_count": 12,
   "metadata": {},
   "outputs": [],
   "source": [
    "er.add(LSTM(units = 50))\n",
    "er.add(Dropout(0.4))"
   ]
  },
  {
   "cell_type": "code",
   "execution_count": 13,
   "metadata": {},
   "outputs": [],
   "source": [
    "er.add(Dense(units = 1))"
   ]
  },
  {
   "cell_type": "code",
   "execution_count": 14,
   "metadata": {},
   "outputs": [
    {
     "name": "stdout",
     "output_type": "stream",
     "text": [
      "Epoch 1/100\n",
      "38/38 [==============================] - 15s 147ms/step - loss: 0.1905\n",
      "Epoch 2/100\n",
      "38/38 [==============================] - 6s 151ms/step - loss: 0.0580\n",
      "Epoch 3/100\n",
      "38/38 [==============================] - 6s 146ms/step - loss: 0.0452\n",
      "Epoch 4/100\n",
      "38/38 [==============================] - 6s 149ms/step - loss: 0.0431\n",
      "Epoch 5/100\n",
      "38/38 [==============================] - 6s 166ms/step - loss: 0.0410\n",
      "Epoch 6/100\n",
      "38/38 [==============================] - 6s 150ms/step - loss: 0.0406\n",
      "Epoch 7/100\n",
      "38/38 [==============================] - 6s 147ms/step - loss: 0.0393\n",
      "Epoch 8/100\n",
      "38/38 [==============================] - 6s 146ms/step - loss: 0.0373\n",
      "Epoch 9/100\n",
      "38/38 [==============================] - 6s 148ms/step - loss: 0.0400\n",
      "Epoch 10/100\n",
      "38/38 [==============================] - 6s 151ms/step - loss: 0.0377\n",
      "Epoch 11/100\n",
      "38/38 [==============================] - 6s 148ms/step - loss: 0.0320\n",
      "Epoch 12/100\n",
      "38/38 [==============================] - 6s 162ms/step - loss: 0.0329\n",
      "Epoch 13/100\n",
      "38/38 [==============================] - 6s 145ms/step - loss: 0.0327\n",
      "Epoch 14/100\n",
      "38/38 [==============================] - 5s 143ms/step - loss: 0.0363\n",
      "Epoch 15/100\n",
      "38/38 [==============================] - 5s 143ms/step - loss: 0.0344\n",
      "Epoch 16/100\n",
      "38/38 [==============================] - 5s 133ms/step - loss: 0.0365\n",
      "Epoch 17/100\n",
      "38/38 [==============================] - 6s 149ms/step - loss: 0.0326\n",
      "Epoch 18/100\n",
      "38/38 [==============================] - 5s 136ms/step - loss: 0.0331\n",
      "Epoch 19/100\n",
      "38/38 [==============================] - 6s 159ms/step - loss: 0.0347\n",
      "Epoch 20/100\n",
      "38/38 [==============================] - 6s 158ms/step - loss: 0.0303\n",
      "Epoch 21/100\n",
      "38/38 [==============================] - 6s 147ms/step - loss: 0.0313\n",
      "Epoch 22/100\n",
      "38/38 [==============================] - 5s 134ms/step - loss: 0.0321\n",
      "Epoch 23/100\n",
      "38/38 [==============================] - 6s 149ms/step - loss: 0.0297\n",
      "Epoch 24/100\n",
      "38/38 [==============================] - 6s 147ms/step - loss: 0.0284\n",
      "Epoch 25/100\n",
      "38/38 [==============================] - 4s 116ms/step - loss: 0.0309\n",
      "Epoch 26/100\n",
      "38/38 [==============================] - 5s 126ms/step - loss: 0.0296\n",
      "Epoch 27/100\n",
      "38/38 [==============================] - 4s 108ms/step - loss: 0.0295\n",
      "Epoch 28/100\n",
      "38/38 [==============================] - 4s 115ms/step - loss: 0.0301\n",
      "Epoch 29/100\n",
      "38/38 [==============================] - 4s 100ms/step - loss: 0.0311\n",
      "Epoch 30/100\n",
      "38/38 [==============================] - 4s 101ms/step - loss: 0.0271\n",
      "Epoch 31/100\n",
      "38/38 [==============================] - 4s 101ms/step - loss: 0.0288\n",
      "Epoch 32/100\n",
      "38/38 [==============================] - 4s 106ms/step - loss: 0.0325\n",
      "Epoch 33/100\n",
      "38/38 [==============================] - 4s 100ms/step - loss: 0.0267\n",
      "Epoch 34/100\n",
      "38/38 [==============================] - 4s 101ms/step - loss: 0.0273\n",
      "Epoch 35/100\n",
      "38/38 [==============================] - 4s 100ms/step - loss: 0.0266\n",
      "Epoch 36/100\n",
      "38/38 [==============================] - 4s 100ms/step - loss: 0.0241\n",
      "Epoch 37/100\n",
      "38/38 [==============================] - 4s 101ms/step - loss: 0.0252\n",
      "Epoch 38/100\n",
      "38/38 [==============================] - 4s 100ms/step - loss: 0.0324\n",
      "Epoch 39/100\n",
      "38/38 [==============================] - 4s 103ms/step - loss: 0.0277\n",
      "Epoch 40/100\n",
      "38/38 [==============================] - 4s 102ms/step - loss: 0.0273\n",
      "Epoch 41/100\n",
      "38/38 [==============================] - 4s 104ms/step - loss: 0.0272\n",
      "Epoch 42/100\n",
      "38/38 [==============================] - 4s 101ms/step - loss: 0.0247\n",
      "Epoch 43/100\n",
      "38/38 [==============================] - 4s 107ms/step - loss: 0.0243\n",
      "Epoch 44/100\n",
      "38/38 [==============================] - 4s 112ms/step - loss: 0.0274\n",
      "Epoch 45/100\n",
      "38/38 [==============================] - 4s 111ms/step - loss: 0.0253\n",
      "Epoch 46/100\n",
      "38/38 [==============================] - 4s 113ms/step - loss: 0.0257\n",
      "Epoch 47/100\n",
      "38/38 [==============================] - 6s 147ms/step - loss: 0.0224\n",
      "Epoch 48/100\n",
      "38/38 [==============================] - 7s 175ms/step - loss: 0.0268\n",
      "Epoch 49/100\n",
      "38/38 [==============================] - 5s 129ms/step - loss: 0.0267\n",
      "Epoch 50/100\n",
      "38/38 [==============================] - 5s 143ms/step - loss: 0.0258\n",
      "Epoch 51/100\n",
      "38/38 [==============================] - 5s 132ms/step - loss: 0.0255\n",
      "Epoch 52/100\n",
      "38/38 [==============================] - 6s 146ms/step - loss: 0.0239\n",
      "Epoch 53/100\n",
      "38/38 [==============================] - 5s 142ms/step - loss: 0.0248\n",
      "Epoch 54/100\n",
      "38/38 [==============================] - 4s 116ms/step - loss: 0.0242\n",
      "Epoch 55/100\n",
      "38/38 [==============================] - 5s 131ms/step - loss: 0.0206\n",
      "Epoch 56/100\n",
      "38/38 [==============================] - 5s 126ms/step - loss: 0.0247\n",
      "Epoch 57/100\n",
      "38/38 [==============================] - 5s 122ms/step - loss: 0.0235\n",
      "Epoch 58/100\n",
      "38/38 [==============================] - 5s 121ms/step - loss: 0.0247\n",
      "Epoch 59/100\n",
      "38/38 [==============================] - 6s 167ms/step - loss: 0.0271\n",
      "Epoch 60/100\n",
      "38/38 [==============================] - 7s 175ms/step - loss: 0.0219\n",
      "Epoch 61/100\n",
      "38/38 [==============================] - 5s 137ms/step - loss: 0.0244\n",
      "Epoch 62/100\n",
      "38/38 [==============================] - 5s 129ms/step - loss: 0.0247\n",
      "Epoch 63/100\n",
      "38/38 [==============================] - 4s 118ms/step - loss: 0.0210\n",
      "Epoch 64/100\n",
      "38/38 [==============================] - 4s 111ms/step - loss: 0.0216\n",
      "Epoch 65/100\n",
      "38/38 [==============================] - 4s 106ms/step - loss: 0.0243\n",
      "Epoch 66/100\n",
      "38/38 [==============================] - 4s 104ms/step - loss: 0.0225\n",
      "Epoch 67/100\n",
      "38/38 [==============================] - 4s 107ms/step - loss: 0.0213\n",
      "Epoch 68/100\n",
      "38/38 [==============================] - 4s 104ms/step - loss: 0.0223\n",
      "Epoch 69/100\n",
      "38/38 [==============================] - 4s 103ms/step - loss: 0.0259\n",
      "Epoch 70/100\n",
      "38/38 [==============================] - 4s 103ms/step - loss: 0.0220\n",
      "Epoch 71/100\n",
      "38/38 [==============================] - 4s 103ms/step - loss: 0.0210\n",
      "Epoch 72/100\n",
      "38/38 [==============================] - 4s 102ms/step - loss: 0.0209\n",
      "Epoch 73/100\n",
      "38/38 [==============================] - 4s 101ms/step - loss: 0.0217\n",
      "Epoch 74/100\n",
      "38/38 [==============================] - 4s 114ms/step - loss: 0.0206\n",
      "Epoch 75/100\n",
      "38/38 [==============================] - 4s 108ms/step - loss: 0.0238\n",
      "Epoch 76/100\n",
      "38/38 [==============================] - 4s 108ms/step - loss: 0.0196\n",
      "Epoch 77/100\n",
      "38/38 [==============================] - 4s 104ms/step - loss: 0.0227\n",
      "Epoch 78/100\n",
      "38/38 [==============================] - 4s 107ms/step - loss: 0.0231\n",
      "Epoch 79/100\n",
      "38/38 [==============================] - 4s 107ms/step - loss: 0.0237\n",
      "Epoch 80/100\n",
      "38/38 [==============================] - 4s 117ms/step - loss: 0.0224\n",
      "Epoch 81/100\n",
      "38/38 [==============================] - 4s 105ms/step - loss: 0.0205\n",
      "Epoch 82/100\n",
      "38/38 [==============================] - 4s 118ms/step - loss: 0.0234\n",
      "Epoch 83/100\n",
      "38/38 [==============================] - 4s 108ms/step - loss: 0.0219\n",
      "Epoch 84/100\n",
      "38/38 [==============================] - 4s 105ms/step - loss: 0.0205\n",
      "Epoch 85/100\n",
      "38/38 [==============================] - 4s 102ms/step - loss: 0.0240\n",
      "Epoch 86/100\n",
      "38/38 [==============================] - 4s 102ms/step - loss: 0.0200\n",
      "Epoch 87/100\n",
      "38/38 [==============================] - 4s 108ms/step - loss: 0.0203\n",
      "Epoch 88/100\n",
      "38/38 [==============================] - 4s 103ms/step - loss: 0.0220\n",
      "Epoch 89/100\n",
      "38/38 [==============================] - 4s 102ms/step - loss: 0.0204\n",
      "Epoch 90/100\n",
      "38/38 [==============================] - 4s 103ms/step - loss: 0.0201\n",
      "Epoch 91/100\n",
      "38/38 [==============================] - 4s 101ms/step - loss: 0.0235\n",
      "Epoch 92/100\n",
      "38/38 [==============================] - 5s 120ms/step - loss: 0.0210\n",
      "Epoch 93/100\n",
      "38/38 [==============================] - 4s 108ms/step - loss: 0.0198\n",
      "Epoch 94/100\n",
      "38/38 [==============================] - 4s 103ms/step - loss: 0.0215\n",
      "Epoch 95/100\n",
      "38/38 [==============================] - 4s 101ms/step - loss: 0.0196\n",
      "Epoch 96/100\n",
      "38/38 [==============================] - 4s 107ms/step - loss: 0.0204\n",
      "Epoch 97/100\n",
      "38/38 [==============================] - 4s 112ms/step - loss: 0.0199\n",
      "Epoch 98/100\n",
      "38/38 [==============================] - 5s 127ms/step - loss: 0.0205\n",
      "Epoch 99/100\n",
      "38/38 [==============================] - 5s 125ms/step - loss: 0.0222\n",
      "Epoch 100/100\n",
      "38/38 [==============================] - 4s 117ms/step - loss: 0.0190\n"
     ]
    },
    {
     "data": {
      "text/plain": [
       "<keras.callbacks.History at 0x1beff71fac0>"
      ]
     },
     "execution_count": 14,
     "metadata": {},
     "output_type": "execute_result"
    }
   ],
   "source": [
    "er.compile(optimizer = 'adam', loss = 'mean_squared_error')\n",
    "er.fit(X_train, y_train, epochs = 100, batch_size = 32)"
   ]
  },
  {
   "cell_type": "code",
   "execution_count": 15,
   "metadata": {},
   "outputs": [],
   "source": [
    "dataset_test = pd.read_csv('Google_Stock_Price_Test.csv')\n",
    "real_stock_price = dataset_test.iloc[:, 1:2].values"
   ]
  },
  {
   "cell_type": "code",
   "execution_count": 16,
   "metadata": {},
   "outputs": [],
   "source": [
    "dataset_total = pd.concat((dataset_train['Open'], dataset_test['Open']), axis = 0)\n",
    "inputs = dataset_total[len(dataset_total) - len(dataset_test) - 60:].values\n",
    "inputs = inputs.reshape(-1,1)\n",
    "inputs = sc.transform(inputs)\n",
    "X_test = []\n",
    "for i in range(60, 80):\n",
    "    X_test.append(inputs[i-60:i, 0])\n",
    "X_test = np.array(X_test)\n",
    "X_test = np.reshape(X_test, (X_test.shape[0], X_test.shape[1], 1))\n",
    "predicted_stock_price = er.predict(X_test)\n",
    "predicted_stock_price = sc.inverse_transform(predicted_stock_price)"
   ]
  },
  {
   "cell_type": "code",
   "execution_count": 17,
   "metadata": {},
   "outputs": [
    {
     "data": {
      "image/png": "[encoded data removed]",
      "text/plain": [
       "<Figure size 432x288 with 1 Axes>"
      ]
     },
     "metadata": {
      "needs_background": "light"
     },
     "output_type": "display_data"
    }
   ],
   "source": [
    "plt.plot(real_stock_price, color = 'red', label = 'Real Google Stock Price')\n",
    "plt.plot(predicted_stock_price, color = 'blue', label = 'Predicted Google Stock Price')\n",
    "plt.title('Google Stock Price Prediction')\n",
    "plt.xlabel('Time')\n",
    "plt.ylabel('Google Stock Price')\n",
    "plt.legend()\n",
    "plt.show()\n"
   ]
  },
  {
   "cell_type": "code",
   "execution_count": null,
   "metadata": {},
   "outputs": [],
   "source": []
  }
 ],
 "metadata": {
  "kernelspec": {
   "display_name": "Python 3",
   "language": "python",
   "name": "python3"
  },
  "language_info": {
   "codemirror_mode": {
    "name": "ipython",
    "version": 3
   },
   "file_extension": ".py",
   "mimetype": "text/x-python",
   "name": "python",
   "nbconvert_exporter": "python",
   "pygments_lexer": "ipython3",
   "version": "3.8.5"
  }
 },
 "nbformat": 4,
 "nbformat_minor": 4
}
